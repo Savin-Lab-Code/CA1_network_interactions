{
 "cells": [
  {
   "cell_type": "code",
   "execution_count": 2,
   "metadata": {},
   "outputs": [],
   "source": [
    "import matplotlib.pyplot as plt\n",
    "import scipy.stats as stat\n",
    "import numpy as np\n",
    "import scipy.io"
   ]
  },
  {
   "cell_type": "code",
   "execution_count": 3,
   "metadata": {},
   "outputs": [],
   "source": [
    "# load MAT file containing the 3D place fields inferred using the script \"3D_place_fields_GP.m\"\n",
    "mat = scipy.io.loadmat('PFGP3D_N50.mat',squeeze_me=True)['pfs']\n",
    "# this is a 5 dimensonal array."
   ]
  },
  {
   "cell_type": "code",
   "execution_count": 15,
   "metadata": {},
   "outputs": [],
   "source": [
    "# number of neurons\n",
    "N = mat.shape[0]"
   ]
  },
  {
   "cell_type": "code",
   "execution_count": 5,
   "metadata": {},
   "outputs": [],
   "source": [
    "# it contains place fields for: \n",
    "# - 50 cells\n",
    "# - mean and STD in log-firing\n",
    "# - tuning for x,y,k (20 X 20 X 10)"
   ]
  },
  {
   "cell_type": "code",
   "execution_count": 6,
   "metadata": {},
   "outputs": [],
   "source": [
    "# load \"real\" synthetic data (i.e. what came out from the sampling of ground truth model)\n",
    "x = np.loadtxt('x_Ising_Osc_50')\n",
    "y = np.loadtxt('y_Ising_Osc_50_C')"
   ]
  },
  {
   "cell_type": "code",
   "execution_count": 7,
   "metadata": {},
   "outputs": [],
   "source": [
    "# count the number of coactive cells\n",
    "k = np.sum(y,1)"
   ]
  },
  {
   "cell_type": "code",
   "execution_count": 8,
   "metadata": {},
   "outputs": [],
   "source": [
    "# bin behavior\n",
    "B=20\n",
    "bin_pos=stat.binned_statistic_2d(x.T[0],x.T[1],values=np.ones_like(x.T[0]),statistic='count',\n",
    "                                     bins=np.arange(B+1)/B,expand_binnumbers=True)[3].T-1\n",
    "# bin synchrony (i.e. K)\n",
    "edges = [np.percentile(k,i*10) for i in range(11)]\n",
    "bin_syn=stat.binned_statistic(k,values=np.ones_like(k),statistic='count',bins=edges)[2]-1"
   ]
  },
  {
   "cell_type": "code",
   "execution_count": 9,
   "metadata": {},
   "outputs": [],
   "source": [
    "# mean log firing\n",
    "mea = np.array([mat[:,0,b[0],b[1],bin_syn[ib]] for ib,b in enumerate(bin_pos)])\n",
    "# std log firing\n",
    "std = np.sqrt(np.array([mat[:,1,b[0],b[1],bin_syn[ib]] for ib,b in enumerate(bin_pos)]))"
   ]
  },
  {
   "cell_type": "code",
   "execution_count": 10,
   "metadata": {},
   "outputs": [],
   "source": [
    "# measure real correlation\n",
    "corr = np.corrcoef(y.T)"
   ]
  },
  {
   "cell_type": "code",
   "execution_count": 11,
   "metadata": {},
   "outputs": [
    {
     "data": {
      "text/plain": [
       "<matplotlib.image.AxesImage at 0x7f6e6e5b3f50>"
      ]
     },
     "execution_count": 11,
     "metadata": {},
     "output_type": "execute_result"
    },
    {
     "data": {
      "image/png": "[encoded data removed]",
      "text/plain": [
       "<Figure size 432x288 with 1 Axes>"
      ]
     },
     "metadata": {
      "needs_background": "light"
     },
     "output_type": "display_data"
    }
   ],
   "source": [
    "plt.imshow(corr)"
   ]
  },
  {
   "cell_type": "code",
   "execution_count": 18,
   "metadata": {},
   "outputs": [],
   "source": [
    "# number of simulations\n",
    "K=1000\n",
    "# max number of rejections\n",
    "maxiter=500"
   ]
  },
  {
   "cell_type": "code",
   "execution_count": 17,
   "metadata": {},
   "outputs": [],
   "source": [
    "# simulate firing using null model\n",
    "# save both the firing and the number of rejections of each sample\n",
    "# problematic samples will be excluded from the computation of correlations\n",
    "yfks = np.zeros([K, len(k), N])\n",
    "cnts = np.zeros([K, len(k)])"
   ]
  },
  {
   "cell_type": "code",
   "execution_count": null,
   "metadata": {},
   "outputs": [],
   "source": [
    "# simulate\n",
    "# use rejaction sampling: whenever the number of neurons active is not the same, reject and resample\n",
    "for i in range(K):\n",
    "    ## sample posterior\n",
    "    post = mea + np.random.randn(len(k))*std\n",
    "    ## turn into firing rate\n",
    "    fr = np.exp(post)\n",
    "    ## rejection sampling\n",
    "    yfake, count = rej_samp(fr)\n",
    "    ## save firing and counts\n",
    "    yfks[i] = yfake\n",
    "    cnts[i] = count"
   ]
  },
  {
   "cell_type": "code",
   "execution_count": null,
   "metadata": {},
   "outputs": [],
   "source": [
    "# check for problematic samples - exclude them\n",
    "max_counts = np.max(cnts,0)\n",
    "# print proportion of samples excluded\n",
    "print(np.mean(max_counts) == maxiter-1)"
   ]
  },
  {
   "cell_type": "code",
   "execution_count": null,
   "metadata": {},
   "outputs": [],
   "source": [
    "# compute correlations on sampled data\n",
    "fkcors = np.zeros([K,N,N])\n",
    "for i in range(K):\n",
    "    fkcors[i] = np.corrcoef(yfks[i,max_counts<maxiter-1].T)"
   ]
  },
  {
   "cell_type": "code",
   "execution_count": null,
   "metadata": {},
   "outputs": [],
   "source": [
    "# compute real correlation\n",
    "real = np.corrcoef(y[max_counts<maxiter-1].T)"
   ]
  },
  {
   "cell_type": "code",
   "execution_count": null,
   "metadata": {},
   "outputs": [],
   "source": [
    "# compute w: bla bla"
   ]
  },
  {
   "cell_type": "code",
   "execution_count": null,
   "metadata": {},
   "outputs": [],
   "source": [
    "# save excess correlations"
   ]
  }
 ],
 "metadata": {
  "kernelspec": {
   "display_name": "Python 3",
   "language": "python",
   "name": "python3"
  },
  "language_info": {
   "codemirror_mode": {
    "name": "ipython",
    "version": 3
   },
   "file_extension": ".py",
   "mimetype": "text/x-python",
   "name": "python",
   "nbconvert_exporter": "python",
   "pygments_lexer": "ipython3",
   "version": "3.7.6"
  }
 },
 "nbformat": 4,
 "nbformat_minor": 4
}
